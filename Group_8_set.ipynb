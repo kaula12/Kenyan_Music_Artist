{
 "cells": [
  {
   "cell_type": "code",
   "execution_count": null,
   "id": "ec233c7c-6c2e-44ac-9394-e24b57f3933e",
   "metadata": {},
   "outputs": [],
   "source": [
    "#Set"
   ]
  },
  {
   "cell_type": "code",
   "execution_count": null,
   "id": "7fd50fbd-56ef-44ef-a85b-b13978b2316e",
   "metadata": {},
   "outputs": [],
   "source": [
    "#Set below contains most of the music genres in Kenya."
   ]
  },
  {
   "cell_type": "code",
   "execution_count": 4,
   "id": "a0e94ee6-a691-4a5b-8b49-41a927591c12",
   "metadata": {},
   "outputs": [
    {
     "data": {
      "text/plain": [
       "{'Afro-pop',\n",
       " 'Amapiano',\n",
       " 'Bongo',\n",
       " 'Gengetone',\n",
       " 'Gospel',\n",
       " 'R&B',\n",
       " 'reggae',\n",
       " 'urbantone'}"
      ]
     },
     "execution_count": 4,
     "metadata": {},
     "output_type": "execute_result"
    }
   ],
   "source": [
    "music_genres = {\"Afro-pop\", \"R&B\", \"Bongo\", \"Amapiano\", \"reggae\", \"Gengetone\", \"Gospel\", \"urbantone\", \"Gospel\"}\n",
    "music_genres"
   ]
  },
  {
   "cell_type": "code",
   "execution_count": 5,
   "id": "ab467be5-e262-457d-9b98-db7fd80388d4",
   "metadata": {},
   "outputs": [],
   "source": [
    "#Displaying all music genres"
   ]
  },
  {
   "cell_type": "code",
   "execution_count": 10,
   "id": "efd1ca80-5962-4f4c-a585-86c59e0ac039",
   "metadata": {},
   "outputs": [
    {
     "name": "stdout",
     "output_type": "stream",
     "text": [
      "{'Dancehall', 'reggae', 'urbantone', 'Bongo', 'Amapiano', 'Afro-pop', 'Gengetone', 'R&B', 'Gospel'}\n"
     ]
    }
   ],
   "source": [
    "print(music_genres)"
   ]
  },
  {
   "cell_type": "code",
   "execution_count": null,
   "id": "105a8a4c-5bf3-4608-a4bc-100e9e5d5c5b",
   "metadata": {},
   "outputs": [],
   "source": [
    "#Add a new genre using add() function"
   ]
  },
  {
   "cell_type": "code",
   "execution_count": 8,
   "id": "3ee4f045-3b0e-4039-9232-37b738aa3b4a",
   "metadata": {},
   "outputs": [],
   "source": [
    "music_genres.add(\"Dancehall\")"
   ]
  },
  {
   "cell_type": "code",
   "execution_count": 9,
   "id": "7ff04cb5-1f56-4948-b11f-49fe9097a8d9",
   "metadata": {},
   "outputs": [
    {
     "data": {
      "text/plain": [
       "{'Afro-pop',\n",
       " 'Amapiano',\n",
       " 'Bongo',\n",
       " 'Dancehall',\n",
       " 'Gengetone',\n",
       " 'Gospel',\n",
       " 'R&B',\n",
       " 'reggae',\n",
       " 'urbantone'}"
      ]
     },
     "execution_count": 9,
     "metadata": {},
     "output_type": "execute_result"
    }
   ],
   "source": [
    "music_genres"
   ]
  },
  {
   "cell_type": "code",
   "execution_count": null,
   "id": "3402dc36-e118-4d90-aebf-0ccc229606cf",
   "metadata": {},
   "outputs": [],
   "source": []
  }
 ],
 "metadata": {
  "kernelspec": {
   "display_name": "Python [conda env:base] *",
   "language": "python",
   "name": "conda-base-py"
  },
  "language_info": {
   "codemirror_mode": {
    "name": "ipython",
    "version": 3
   },
   "file_extension": ".py",
   "mimetype": "text/x-python",
   "name": "python",
   "nbconvert_exporter": "python",
   "pygments_lexer": "ipython3",
   "version": "3.11.7"
  }
 },
 "nbformat": 4,
 "nbformat_minor": 5
}
