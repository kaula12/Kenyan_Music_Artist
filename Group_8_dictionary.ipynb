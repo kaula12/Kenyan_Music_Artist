{
 "cells": [
  {
   "cell_type": "code",
   "execution_count": null,
   "id": "a541aac4-c563-4d31-a6d2-d16573c55fbc",
   "metadata": {},
   "outputs": [],
   "source": [
    "#Dictionary"
   ]
  },
  {
   "cell_type": "code",
   "execution_count": null,
   "id": "57f47ebb-9aeb-4ee8-b8c1-08accde4fd6c",
   "metadata": {},
   "outputs": [],
   "source": [
    "#A dictionary containing artists' profile"
   ]
  },
  {
   "cell_type": "code",
   "execution_count": 19,
   "id": "0fabb16c-bf46-4403-b3cf-455b5d55a505",
   "metadata": {},
   "outputs": [],
   "source": [
    "artist_profile = {\n",
    "    \"Name\": \"Bien\",\n",
    "    \"Year of launch\": 2005,\n",
    "    \"Rating\": 4.9,\n",
    "    \"Won award\": True,\n",
    "    \"Best song\": \"Extra pressure\"\n",
    "}"
   ]
  },
  {
   "cell_type": "code",
   "execution_count": 20,
   "id": "b6daca70-795d-4198-a771-68fb9d3b0849",
   "metadata": {},
   "outputs": [
    {
     "data": {
      "text/plain": [
       "{'Name': 'Bien',\n",
       " 'Year of launch': 2005,\n",
       " 'Rating': 4.9,\n",
       " 'Won award': True,\n",
       " 'Best song': 'Extra pressure'}"
      ]
     },
     "execution_count": 20,
     "metadata": {},
     "output_type": "execute_result"
    }
   ],
   "source": [
    "artist_profile"
   ]
  },
  {
   "cell_type": "code",
   "execution_count": 21,
   "id": "900fad5f-ba33-4a44-a7e6-96944b2c3d8c",
   "metadata": {},
   "outputs": [],
   "source": [
    "#Adding artist's year of birth"
   ]
  },
  {
   "cell_type": "code",
   "execution_count": 22,
   "id": "6faf8709-0a8b-41dc-b1e2-95c1531e3583",
   "metadata": {},
   "outputs": [],
   "source": [
    "artist_profile[\"Year of birth\"] = 1987"
   ]
  },
  {
   "cell_type": "code",
   "execution_count": 23,
   "id": "e16bca45-b543-480f-832d-2a5e75fd24d4",
   "metadata": {},
   "outputs": [
    {
     "data": {
      "text/plain": [
       "{'Name': 'Bien',\n",
       " 'Year of launch': 2005,\n",
       " 'Rating': 4.9,\n",
       " 'Won award': True,\n",
       " 'Best song': 'Extra pressure',\n",
       " 'Year of birth': 1987}"
      ]
     },
     "execution_count": 23,
     "metadata": {},
     "output_type": "execute_result"
    }
   ],
   "source": [
    "artist_profile"
   ]
  },
  {
   "cell_type": "code",
   "execution_count": 24,
   "id": "2ea4aff4-b596-49df-918f-a60041b0d85f",
   "metadata": {},
   "outputs": [],
   "source": [
    "#updating key and value pair"
   ]
  },
  {
   "cell_type": "code",
   "execution_count": 25,
   "id": "c75c7e21-e41e-4c3d-8756-b890eb6744ff",
   "metadata": {},
   "outputs": [],
   "source": [
    "artist_profile[\"Best song\"] = \"Lifestyle\""
   ]
  },
  {
   "cell_type": "code",
   "execution_count": 26,
   "id": "4b648482-c4a8-4890-ab38-22041d52569a",
   "metadata": {},
   "outputs": [
    {
     "data": {
      "text/plain": [
       "{'Name': 'Bien',\n",
       " 'Year of launch': 2005,\n",
       " 'Rating': 4.9,\n",
       " 'Won award': True,\n",
       " 'Best song': 'Lifestyle',\n",
       " 'Year of birth': 1987}"
      ]
     },
     "execution_count": 26,
     "metadata": {},
     "output_type": "execute_result"
    }
   ],
   "source": [
    "artist_profile"
   ]
  },
  {
   "cell_type": "code",
   "execution_count": null,
   "id": "9ba34064-abe2-473d-9938-592ceee3d3a4",
   "metadata": {},
   "outputs": [],
   "source": [
    "#Delete a specific key and value pair"
   ]
  },
  {
   "cell_type": "code",
   "execution_count": 27,
   "id": "09b196ce-9c26-44e6-bc4f-201decc26ce3",
   "metadata": {},
   "outputs": [],
   "source": [
    "del artist_profile[\"Rating\"]"
   ]
  },
  {
   "cell_type": "code",
   "execution_count": 28,
   "id": "e304801c-775f-4f4f-9c11-dd4c122097e9",
   "metadata": {},
   "outputs": [
    {
     "data": {
      "text/plain": [
       "{'Name': 'Bien',\n",
       " 'Year of launch': 2005,\n",
       " 'Won award': True,\n",
       " 'Best song': 'Lifestyle',\n",
       " 'Year of birth': 1987}"
      ]
     },
     "execution_count": 28,
     "metadata": {},
     "output_type": "execute_result"
    }
   ],
   "source": [
    "artist_profile"
   ]
  },
  {
   "cell_type": "code",
   "execution_count": null,
   "id": "eb88836b-7654-46af-a4b9-6e73260f8b92",
   "metadata": {},
   "outputs": [],
   "source": [
    "#Print all details"
   ]
  },
  {
   "cell_type": "code",
   "execution_count": 29,
   "id": "7b34b62f-a80b-4d45-9706-5e9f3ab67c20",
   "metadata": {},
   "outputs": [
    {
     "name": "stdout",
     "output_type": "stream",
     "text": [
      "Name - 'Bien'\n",
      "Year of launch - '2005'\n",
      "Won award - 'True'\n",
      "Best song - 'Lifestyle'\n",
      "Year of birth - '1987'\n"
     ]
    }
   ],
   "source": [
    "for detail, value in artist_profile.items():\n",
    "    print(f\"{detail} - '{value}'\")"
   ]
  },
  {
   "cell_type": "code",
   "execution_count": null,
   "id": "82fafbdf-d59d-42b3-83fb-b28ad03eace1",
   "metadata": {},
   "outputs": [],
   "source": []
  }
 ],
 "metadata": {
  "kernelspec": {
   "display_name": "Python [conda env:base] *",
   "language": "python",
   "name": "conda-base-py"
  },
  "language_info": {
   "codemirror_mode": {
    "name": "ipython",
    "version": 3
   },
   "file_extension": ".py",
   "mimetype": "text/x-python",
   "name": "python",
   "nbconvert_exporter": "python",
   "pygments_lexer": "ipython3",
   "version": "3.11.7"
  }
 },
 "nbformat": 4,
 "nbformat_minor": 5
}
