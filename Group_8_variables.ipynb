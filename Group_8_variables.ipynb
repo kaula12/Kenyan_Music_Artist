{
 "cells": [
  {
   "cell_type": "code",
   "execution_count": 20,
   "id": "076d240a-2b0c-4296-aa36-fdc5b903daa1",
   "metadata": {},
   "outputs": [],
   "source": [
    "#String variable"
   ]
  },
  {
   "cell_type": "code",
   "execution_count": 21,
   "id": "da55fa92-d76e-4e15-a08e-63221a487a4e",
   "metadata": {},
   "outputs": [],
   "source": [
    "#This variable below shows a string data type."
   ]
  },
  {
   "cell_type": "code",
   "execution_count": 24,
   "id": "2a8d8199-df1d-4d8f-abf2-0f42745e5b3b",
   "metadata": {},
   "outputs": [
    {
     "name": "stdout",
     "output_type": "stream",
     "text": [
      "Nyashinski\n"
     ]
    },
    {
     "data": {
      "text/plain": [
       "str"
      ]
     },
     "execution_count": 24,
     "metadata": {},
     "output_type": "execute_result"
    }
   ],
   "source": [
    "artist_name = \"Nyashinski\"\n",
    "print(artist_name)\n",
    "type(artist_name)"
   ]
  },
  {
   "cell_type": "code",
   "execution_count": 22,
   "id": "c33f4229-4e01-4778-bb17-0e490d2169de",
   "metadata": {},
   "outputs": [],
   "source": [
    "#Integer variable"
   ]
  },
  {
   "cell_type": "code",
   "execution_count": null,
   "id": "92b55273-625b-4364-a5e0-c65d24e054a5",
   "metadata": {},
   "outputs": [],
   "source": [
    "#This variable below shows an integer data type"
   ]
  },
  {
   "cell_type": "code",
   "execution_count": 25,
   "id": "96e382c7-15c7-485a-bae6-3aa2ae0494d4",
   "metadata": {},
   "outputs": [
    {
     "name": "stdout",
     "output_type": "stream",
     "text": [
      "41\n"
     ]
    },
    {
     "data": {
      "text/plain": [
       "int"
      ]
     },
     "execution_count": 25,
     "metadata": {},
     "output_type": "execute_result"
    }
   ],
   "source": [
    "artist_age = 41\n",
    "print(artist_age)\n",
    "type(artist_age)"
   ]
  },
  {
   "cell_type": "code",
   "execution_count": 23,
   "id": "034e40e6-d044-4453-9f81-b789a87e020d",
   "metadata": {},
   "outputs": [],
   "source": [
    "#Float variable"
   ]
  },
  {
   "cell_type": "code",
   "execution_count": null,
   "id": "93c50752-dff2-4a6e-af26-c41ae60d2091",
   "metadata": {},
   "outputs": [],
   "source": [
    "#This variable below shows a float data type"
   ]
  },
  {
   "cell_type": "code",
   "execution_count": 28,
   "id": "61627a21-8f46-405f-a80d-d46294cf4aa2",
   "metadata": {},
   "outputs": [
    {
     "name": "stdout",
     "output_type": "stream",
     "text": [
      "4.9\n"
     ]
    },
    {
     "data": {
      "text/plain": [
       "float"
      ]
     },
     "execution_count": 28,
     "metadata": {},
     "output_type": "execute_result"
    }
   ],
   "source": [
    "average_rating = 4.9\n",
    "print(average_rating)\n",
    "type(average_rating)"
   ]
  },
  {
   "cell_type": "code",
   "execution_count": null,
   "id": "b7a891ad-3282-44aa-9fb9-76cf9e91a677",
   "metadata": {},
   "outputs": [],
   "source": [
    "#Boolean variable"
   ]
  },
  {
   "cell_type": "code",
   "execution_count": null,
   "id": "8a71d660-1371-4fd0-82d2-74a70d68e5ec",
   "metadata": {},
   "outputs": [],
   "source": [
    "#This variable below shows a boolean data type"
   ]
  },
  {
   "cell_type": "code",
   "execution_count": 29,
   "id": "8674756e-1d04-43b5-ae86-bb256fc2e1f9",
   "metadata": {},
   "outputs": [
    {
     "name": "stdout",
     "output_type": "stream",
     "text": [
      "False\n"
     ]
    },
    {
     "data": {
      "text/plain": [
       "bool"
      ]
     },
     "execution_count": 29,
     "metadata": {},
     "output_type": "execute_result"
    }
   ],
   "source": [
    "is_retired = False\n",
    "print(is_retired)\n",
    "type(is_retired)"
   ]
  },
  {
   "cell_type": "code",
   "execution_count": null,
   "id": "4966d703-8360-48b5-b73b-780d77532983",
   "metadata": {},
   "outputs": [],
   "source": [
    "#NoneType variable"
   ]
  },
  {
   "cell_type": "code",
   "execution_count": null,
   "id": "7db586c3-42e8-4132-b717-8eae03c362e7",
   "metadata": {},
   "outputs": [],
   "source": [
    "#This variable below shows a nonetype data type"
   ]
  },
  {
   "cell_type": "code",
   "execution_count": 30,
   "id": "71604ef3-091d-483c-91bb-c37da8ef1a6e",
   "metadata": {},
   "outputs": [
    {
     "name": "stdout",
     "output_type": "stream",
     "text": [
      "None\n"
     ]
    },
    {
     "data": {
      "text/plain": [
       "NoneType"
      ]
     },
     "execution_count": 30,
     "metadata": {},
     "output_type": "execute_result"
    }
   ],
   "source": [
    "latest_award = None\n",
    "print(latest_award)\n",
    "type(latest_award)"
   ]
  },
  {
   "cell_type": "code",
   "execution_count": null,
   "id": "5759fab5-36b6-40b4-942f-fd44c65d128e",
   "metadata": {},
   "outputs": [],
   "source": []
  }
 ],
 "metadata": {
  "kernelspec": {
   "display_name": "Python 3 (ipykernel)",
   "language": "python",
   "name": "python3"
  },
  "language_info": {
   "codemirror_mode": {
    "name": "ipython",
    "version": 3
   },
   "file_extension": ".py",
   "mimetype": "text/x-python",
   "name": "python",
   "nbconvert_exporter": "python",
   "pygments_lexer": "ipython3",
   "version": "3.11.7"
  }
 },
 "nbformat": 4,
 "nbformat_minor": 5
}
