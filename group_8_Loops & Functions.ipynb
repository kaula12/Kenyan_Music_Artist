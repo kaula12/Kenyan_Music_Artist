{
 "cells": [
  {
   "cell_type": "code",
   "execution_count": null,
   "id": "feec4ad2-5eb2-4ca0-8764-0ac7b73728c8",
   "metadata": {},
   "outputs": [],
   "source": [
    "# keeping track of artists,songs, and genres\n",
    "\n"
   ]
  },
  {
   "cell_type": "code",
   "execution_count": null,
   "id": "e173da35-8792-4176-8a47-ba54d039ba86",
   "metadata": {},
   "outputs": [],
   "source": [
    "#if statements-decision based on song popularty"
   ]
  },
  {
   "cell_type": "code",
   "execution_count": 21,
   "id": "735534a7-04ce-4b52-ad78-d8b65682d617",
   "metadata": {},
   "outputs": [],
   "source": [
    "#input for song rating\n",
    "song_rating = 5\n"
   ]
  },
  {
   "cell_type": "code",
   "execution_count": 25,
   "id": "e86d6736-4eee-4725-ba3a-90050945f731",
   "metadata": {},
   "outputs": [],
   "source": [
    "#award \n",
    "award = None"
   ]
  },
  {
   "cell_type": "code",
   "execution_count": 23,
   "id": "44ad9de4-cbb7-493d-a46c-af3a5cf4bd89",
   "metadata": {},
   "outputs": [
    {
     "name": "stdout",
     "output_type": "stream",
     "text": [
      "this is a hit song\n",
      "True\n"
     ]
    }
   ],
   "source": [
    "if song_rating == 5:\n",
    "    print(\"this is a hit song\")\n",
    "    award = True\n",
    "    print(award)\n",
    "    \n",
    "elif song_rating == 4:\n",
    "    print(\"this is a good song\")\n",
    "else:\n",
    "    print(\"song needs better vocals\")\n",
    "    \n",
    "    "
   ]
  },
  {
   "cell_type": "code",
   "execution_count": null,
   "id": "2a27d8ac-182d-4da6-884b-cb7d440aa39c",
   "metadata": {},
   "outputs": [],
   "source": [
    "#######################################################################################################"
   ]
  },
  {
   "cell_type": "code",
   "execution_count": 30,
   "id": "0354f64a-05fc-4004-a9ec-7886eb6ccca7",
   "metadata": {},
   "outputs": [],
   "source": [
    "#using for loop to iterarate over a dictionary\n",
    "\n",
    "artist_profile = {\"name\": \"Bien\", \"Age\": 35, \"Residency\": \"Lavington\", \"Best Song\": \"Lifestyle\"}\n",
    "        "
   ]
  },
  {
   "cell_type": "code",
   "execution_count": null,
   "id": "16b307f5-d92c-4252-ae16-698a44ac5837",
   "metadata": {},
   "outputs": [],
   "source": [
    "#using a for loop "
   ]
  },
  {
   "cell_type": "code",
   "execution_count": 42,
   "id": "8f05a77c-eb6c-447b-80b5-1896a6aa2ff1",
   "metadata": {},
   "outputs": [
    {
     "name": "stdout",
     "output_type": "stream",
     "text": [
      "name: Bien\n",
      "Age: 35\n",
      "Residency: Lavington\n",
      "Best Song: Lifestyle\n"
     ]
    }
   ],
   "source": [
    "for key, value in artist_profile.items():\n",
    "    print(f\"{key}: {value}\")"
   ]
  },
  {
   "cell_type": "code",
   "execution_count": null,
   "id": "59d9185f-2d2b-453c-b56c-97f57d3b54b4",
   "metadata": {},
   "outputs": [],
   "source": [
    "#using a for loop to iterate a list"
   ]
  },
  {
   "cell_type": "code",
   "execution_count": 47,
   "id": "bf19c909-3064-4aeb-9f5a-70a41aa52211",
   "metadata": {},
   "outputs": [
    {
     "name": "stdout",
     "output_type": "stream",
     "text": [
      "Nyashinski\n",
      "Khaligraph\n",
      "Juakali\n",
      "Kinoti\n",
      "Bien\n"
     ]
    }
   ],
   "source": [
    "kenyan_artists = [\"Nyashinski\", \"Khaligraph\", \"casper nyovest\", \"Juakali\", \"Kinoti\", \"Bien\"]\n",
    "for kenyan_artist in kenyan_artists:\n",
    "    if kenyan_artist == \"casper nyovest\":\n",
    "        continue\n",
    "    print(kenyan_artist)"
   ]
  },
  {
   "cell_type": "code",
   "execution_count": null,
   "id": "78fad10f-8912-484d-8c45-49c43285e335",
   "metadata": {},
   "outputs": [],
   "source": [
    "#using a for loop to iterate a tuple"
   ]
  },
  {
   "cell_type": "code",
   "execution_count": 63,
   "id": "d8af46d1-1ba8-43b0-845b-780d9eaac30d",
   "metadata": {},
   "outputs": [
    {
     "name": "stdout",
     "output_type": "stream",
     "text": [
      "('Nyashinski', 'Hip-hop')\n",
      "('Juacali', 'Gengetone')\n",
      "('Rose Muhando', 'Gospel')\n",
      "('Nikita Kering', 'R&B')\n",
      "('Mad Munga', 'Gengetone')\n"
     ]
    }
   ],
   "source": [
    "artist_genres = (\n",
    "    (\"Nyashinski\", \"Hip-hop\"),\n",
    "    (\"Juacali\", \"Gengetone\"),\n",
    "    (\"Rose Muhando\", \"Gospel\"),\n",
    "    (\"Nikita Kering\", \"R&B\"),\n",
    "    (\"Mad Munga\", \"Gengetone\")\n",
    ")\n",
    "\n",
    "for artist_genre in artist_genres:\n",
    "    print(artist_genre)"
   ]
  },
  {
   "cell_type": "code",
   "execution_count": 65,
   "id": "452c4506-142d-419e-9ad1-9a89ab85f3f1",
   "metadata": {},
   "outputs": [
    {
     "name": "stdout",
     "output_type": "stream",
     "text": [
      "Nyashinski: Hip-hop\n",
      "Juacali: Gengetone\n",
      "Rose Muhando: Gospel\n",
      "Nikita Kering: R&B\n",
      "Mad Munga: Gengetone\n"
     ]
    }
   ],
   "source": [
    "for key, value in artist_genres:\n",
    "    print(f\"{key}: {value}\")"
   ]
  },
  {
   "cell_type": "code",
   "execution_count": null,
   "id": "814d10fb-915c-486d-bf65-2a4559d8d0b8",
   "metadata": {},
   "outputs": [],
   "source": [
    "#using a for loop to iterate a set"
   ]
  },
  {
   "cell_type": "code",
   "execution_count": 71,
   "id": "92454f86-d338-43bf-be54-5279fddb56a2",
   "metadata": {},
   "outputs": [],
   "source": [
    "music_genres = {\"Afro-pop\", \"R&B\", \"Bongo\", \"Amapiano\", \"reggae\", \"Gengetone\", \"Gospel\", \"urbantone\", \"Gospel\"}\n",
    "\n",
    "\n"
   ]
  },
  {
   "cell_type": "code",
   "execution_count": 72,
   "id": "49a534d8-6bed-4677-afe3-eec1f0f280c6",
   "metadata": {},
   "outputs": [
    {
     "name": "stdout",
     "output_type": "stream",
     "text": [
      "Gengetone\n",
      "Afro-pop\n",
      "Gospel\n",
      "R&B\n",
      "reggae\n",
      "Amapiano\n",
      "urbantone\n",
      "Bongo\n"
     ]
    }
   ],
   "source": [
    "for genre in music_genres:\n",
    "    print(genre)"
   ]
  },
  {
   "cell_type": "code",
   "execution_count": null,
   "id": "f53160fe-b6de-4894-a4bd-01ce77fd29eb",
   "metadata": {},
   "outputs": [],
   "source": [
    "###################################################################################"
   ]
  },
  {
   "cell_type": "code",
   "execution_count": null,
   "id": "a67c7370-1bdf-41e0-9136-dea5c263d759",
   "metadata": {},
   "outputs": [],
   "source": [
    "#a while loop in python is used to repeat a block of code as long as the condition is true\n",
    "#using a while loop"
   ]
  },
  {
   "cell_type": "code",
   "execution_count": 73,
   "id": "03661820-e56d-476a-a2a5-ae3cf7ee2bb6",
   "metadata": {},
   "outputs": [
    {
     "name": "stdout",
     "output_type": "stream",
     "text": [
      "Nyashinski\n",
      "Khaligraph\n",
      "Bensoul\n",
      "Juakali\n",
      "Kinoti\n",
      "Bien\n"
     ]
    }
   ],
   "source": [
    "kenyan_artists = [\"Nyashinski\", \"Khaligraph\", \"Bensoul\", \"Juakali\", \"Kinoti\", \"Bien\"]\n",
    "index = 0\n",
    "\n",
    "while index < len(kenyan_artists):\n",
    "    print(kenyan_artists[index])\n",
    "    index += 1"
   ]
  },
  {
   "cell_type": "code",
   "execution_count": null,
   "id": "9d5c09b1-52ab-4e01-a824-516667daadb1",
   "metadata": {},
   "outputs": [],
   "source": [
    "#A function is a block of reusable code that perfoms a specific task\n",
    "#using a function"
   ]
  },
  {
   "cell_type": "code",
   "execution_count": 77,
   "id": "d1b6b5c1-8eb2-4675-a3c0-ea108b809ccf",
   "metadata": {},
   "outputs": [],
   "source": [
    "payment_per_stream = 0.1"
   ]
  },
  {
   "cell_type": "code",
   "execution_count": 85,
   "id": "ab05b3fb-3f99-4415-86a3-59e5d5385d2a",
   "metadata": {},
   "outputs": [],
   "source": [
    "def calculate_payment(streams, artist_name):\n",
    "     revenue = payment_per_stream * streams\n",
    "     #print(f\"{artist_name} earned ksh{revenue}\")\n",
    "     return print(f\"{artist_name} earned ksh:{revenue}\")\n",
    "    "
   ]
  },
  {
   "cell_type": "code",
   "execution_count": 86,
   "id": "c1d3f16f-897a-477c-a685-f9bf0db39f4f",
   "metadata": {},
   "outputs": [
    {
     "name": "stdout",
     "output_type": "stream",
     "text": [
      "bebe rexha earned ksh:100000.0\n"
     ]
    }
   ],
   "source": [
    "calculate_payment(1000000, \"bebe rexha\")"
   ]
  },
  {
   "cell_type": "code",
   "execution_count": null,
   "id": "42507bb1-56bb-463a-a736-18b6bb88a4e3",
   "metadata": {},
   "outputs": [],
   "source": []
  }
 ],
 "metadata": {
  "kernelspec": {
   "display_name": "Python [conda env:base] *",
   "language": "python",
   "name": "conda-base-py"
  },
  "language_info": {
   "codemirror_mode": {
    "name": "ipython",
    "version": 3
   },
   "file_extension": ".py",
   "mimetype": "text/x-python",
   "name": "python",
   "nbconvert_exporter": "python",
   "pygments_lexer": "ipython3",
   "version": "3.12.7"
  }
 },
 "nbformat": 4,
 "nbformat_minor": 5
}
