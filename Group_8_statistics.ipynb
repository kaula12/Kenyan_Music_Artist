{
 "cells": [
  {
   "cell_type": "code",
   "execution_count": null,
   "id": "8b284ff8-355d-42ec-8340-48a68260dba3",
   "metadata": {},
   "outputs": [],
   "source": [
    "#statistics"
   ]
  },
  {
   "cell_type": "code",
   "execution_count": null,
   "id": "0bfa405b-dffb-4b40-bae9-07a11576072b",
   "metadata": {},
   "outputs": [],
   "source": [
    "#importing np"
   ]
  },
  {
   "cell_type": "code",
   "execution_count": 1,
   "id": "bd030965-4450-4a15-bbdf-6d69e8815d04",
   "metadata": {},
   "outputs": [],
   "source": [
    "import numpy as np"
   ]
  },
  {
   "cell_type": "code",
   "execution_count": 2,
   "id": "a6065144-fbb5-48a4-a808-1d4cba9d073e",
   "metadata": {},
   "outputs": [],
   "source": [
    "#creating a data set"
   ]
  },
  {
   "cell_type": "code",
   "execution_count": 3,
   "id": "e80d4adf-50be-4985-b4cc-76222b4e55f6",
   "metadata": {},
   "outputs": [
    {
     "data": {
      "text/plain": [
       "numpy.ndarray"
      ]
     },
     "execution_count": 3,
     "metadata": {},
     "output_type": "execute_result"
    }
   ],
   "source": [
    "list1 = [\"Bien\", \"Kinoti\", \"Bensoul\", \"Nikita\", \"Nyashinski\"]\n",
    "list2 = [120000, 2000000, 150000, 250000, 400000]\n",
    "list3 = [245000, 3000000, 250000, 1000000, 2000000]\n",
    "\n",
    "kenyan_artist = np.array(list1) \n",
    "spotify_streams = np.array(list2)\n",
    "apple_streams = np.array(list3)\n",
    "type(kenyan_artist)\n"
   ]
  },
  {
   "cell_type": "code",
   "execution_count": null,
   "id": "478dc442-90a8-4847-b963-70774d5cc9aa",
   "metadata": {},
   "outputs": [],
   "source": [
    "#calculating total streams"
   ]
  },
  {
   "cell_type": "code",
   "execution_count": 5,
   "id": "f8b6fa48-85c9-4616-8527-4ce73d07d85b",
   "metadata": {},
   "outputs": [
    {
     "name": "stdout",
     "output_type": "stream",
     "text": [
      "[ 365000 5000000  400000 1250000 2400000]\n"
     ]
    }
   ],
   "source": [
    "total_streams = np.add(spotify_streams, apple_streams)\n",
    "print(total_streams)\n",
    "                    "
   ]
  },
  {
   "cell_type": "code",
   "execution_count": 6,
   "id": "9a00b05d-d7d0-4ba5-8f40-94c0f8a10ac5",
   "metadata": {},
   "outputs": [
    {
     "data": {
      "text/plain": [
       "array([ -125000, -1000000,  -100000,  -750000, -1600000])"
      ]
     },
     "execution_count": 6,
     "metadata": {},
     "output_type": "execute_result"
    }
   ],
   "source": [
    "total_streams = np.subtract(spotify_streams, apple_streams)\n",
    "total_streams"
   ]
  },
  {
   "cell_type": "code",
   "execution_count": 13,
   "id": "e3573cc3-2ae6-4800-9f6f-b0e4fd577eae",
   "metadata": {},
   "outputs": [
    {
     "data": {
      "text/plain": [
       "array([ 240000, 4000000,  300000,  500000,  800000])"
      ]
     },
     "execution_count": 13,
     "metadata": {},
     "output_type": "execute_result"
    }
   ],
   "source": [
    "spotify_streams * 2"
   ]
  },
  {
   "cell_type": "code",
   "execution_count": null,
   "id": "3b915256-4d27-4fcb-b4c8-1246daa7f979",
   "metadata": {},
   "outputs": [],
   "source": []
  }
 ],
 "metadata": {
  "kernelspec": {
   "display_name": "Python [conda env:base] *",
   "language": "python",
   "name": "conda-base-py"
  },
  "language_info": {
   "codemirror_mode": {
    "name": "ipython",
    "version": 3
   },
   "file_extension": ".py",
   "mimetype": "text/x-python",
   "name": "python",
   "nbconvert_exporter": "python",
   "pygments_lexer": "ipython3",
   "version": "3.13.5"
  }
 },
 "nbformat": 4,
 "nbformat_minor": 5
}
