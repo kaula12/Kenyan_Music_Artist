{
 "cells": [
  {
   "cell_type": "code",
   "execution_count": null,
   "id": "209409a2-d17b-4328-95ec-600c74c1c4ee",
   "metadata": {},
   "outputs": [],
   "source": [
    "#List of Kenyan artists"
   ]
  },
  {
   "cell_type": "code",
   "execution_count": null,
   "id": "25828efe-599d-4945-8435-5e286d156074",
   "metadata": {},
   "outputs": [],
   "source": [
    "#The list below show some of the artists in Kenya"
   ]
  },
  {
   "cell_type": "code",
   "execution_count": 16,
   "id": "0b02f15c-2f0f-49e8-a4d2-2fd7efd57294",
   "metadata": {},
   "outputs": [
    {
     "data": {
      "text/plain": [
       "['Nyashinski', 'Khaligraph', 'Bensoul', 'Juakali', 'Kinoti', 'Bien']"
      ]
     },
     "execution_count": 16,
     "metadata": {},
     "output_type": "execute_result"
    }
   ],
   "source": [
    "#Empty list\n",
    "kenyan_artists = [\"Nyashinski\", \"Khaligraph\", \"Bensoul\", \"Juakali\", \"Kinoti\", \"Bien\"]\n",
    "kenyan_artists"
   ]
  },
  {
   "cell_type": "code",
   "execution_count": 13,
   "id": "e1277c77-a6b2-486c-9ee6-a657fc954636",
   "metadata": {},
   "outputs": [],
   "source": [
    "#Removing last Kenyan artist in the list using pop() function"
   ]
  },
  {
   "cell_type": "code",
   "execution_count": 14,
   "id": "03ebac45-07cd-4580-8e90-122f8bdbc9d5",
   "metadata": {},
   "outputs": [
    {
     "data": {
      "text/plain": [
       "['Nyashinski', 'Khaligraph', 'Bensoul', 'Juakali', 'Kinoti']"
      ]
     },
     "execution_count": 14,
     "metadata": {},
     "output_type": "execute_result"
    }
   ],
   "source": [
    "kenyan_artists.pop()\n",
    "kenyan_artists"
   ]
  },
  {
   "cell_type": "code",
   "execution_count": null,
   "id": "be6b8bab-9832-44eb-833e-dc92caf22135",
   "metadata": {},
   "outputs": [],
   "source": [
    "#Adding Kenyan artist using the append() function"
   ]
  },
  {
   "cell_type": "code",
   "execution_count": 15,
   "id": "bd82c25e-ac77-4395-954b-99c0325eb727",
   "metadata": {},
   "outputs": [
    {
     "data": {
      "text/plain": [
       "['Nyashinski', 'Khaligraph', 'Bensoul', 'Juakali', 'Kinoti', 'Bien']"
      ]
     },
     "execution_count": 15,
     "metadata": {},
     "output_type": "execute_result"
    }
   ],
   "source": [
    "kenyan_artists.append(\"Bien\")\n",
    "kenyan_artists"
   ]
  },
  {
   "cell_type": "code",
   "execution_count": null,
   "id": "b94df319-263d-41bb-b8c5-a12838139907",
   "metadata": {},
   "outputs": [],
   "source": [
    "#Getting number of items in a list using len() function"
   ]
  },
  {
   "cell_type": "code",
   "execution_count": 17,
   "id": "e19f051a-432c-4f35-ab01-3c28869b3d89",
   "metadata": {},
   "outputs": [
    {
     "data": {
      "text/plain": [
       "6"
      ]
     },
     "execution_count": 17,
     "metadata": {},
     "output_type": "execute_result"
    }
   ],
   "source": [
    "len(kenyan_artists)"
   ]
  },
  {
   "cell_type": "code",
   "execution_count": null,
   "id": "88a329db-5b06-4f00-85a3-8119af0d9785",
   "metadata": {},
   "outputs": [],
   "source": [
    "#Getting the last item in the list"
   ]
  },
  {
   "cell_type": "code",
   "execution_count": 18,
   "id": "ecf0f699-9500-48e9-ba13-1d5f4860b6bf",
   "metadata": {},
   "outputs": [
    {
     "data": {
      "text/plain": [
       "'Bien'"
      ]
     },
     "execution_count": 18,
     "metadata": {},
     "output_type": "execute_result"
    }
   ],
   "source": [
    "kenyan_artists[-1]"
   ]
  },
  {
   "cell_type": "code",
   "execution_count": null,
   "id": "df4e592c-8604-4d10-98b1-7f019557b8da",
   "metadata": {},
   "outputs": [],
   "source": [
    "#slicing specific artists on the list"
   ]
  },
  {
   "cell_type": "code",
   "execution_count": 20,
   "id": "c134f8e8-c3b7-4be8-867e-0e50c3d5b21a",
   "metadata": {},
   "outputs": [
    {
     "data": {
      "text/plain": [
       "['Nyashinski', 'Khaligraph', 'Bensoul']"
      ]
     },
     "execution_count": 20,
     "metadata": {},
     "output_type": "execute_result"
    }
   ],
   "source": [
    "kenyan_artists[0:3]"
   ]
  },
  {
   "cell_type": "code",
   "execution_count": null,
   "id": "6bd7b847-e009-4e3f-b7f7-6efea5eff088",
   "metadata": {},
   "outputs": [],
   "source": [
    "#Removing specific item in a list using remove() function"
   ]
  },
  {
   "cell_type": "code",
   "execution_count": 24,
   "id": "fd2381e6-3914-4906-9212-f15ed095a329",
   "metadata": {},
   "outputs": [
    {
     "data": {
      "text/plain": [
       "['Khaligraph', 'Juakali', 'Kinoti', 'Bien']"
      ]
     },
     "execution_count": 24,
     "metadata": {},
     "output_type": "execute_result"
    }
   ],
   "source": [
    "kenyan_artists.remove(\"Nyashinski\")\n",
    "kenyan_artists"
   ]
  },
  {
   "cell_type": "code",
   "execution_count": null,
   "id": "9932a90b-727c-4260-918a-69d4fac67d4c",
   "metadata": {},
   "outputs": [],
   "source": [
    "#display the list"
   ]
  },
  {
   "cell_type": "code",
   "execution_count": 25,
   "id": "9a0a983c-6e93-4a28-a0f6-317747d78d11",
   "metadata": {},
   "outputs": [
    {
     "name": "stdout",
     "output_type": "stream",
     "text": [
      "Kenyan artists: ['Khaligraph', 'Juakali', 'Kinoti', 'Bien']\n"
     ]
    }
   ],
   "source": [
    "print(\"Kenyan artists:\", kenyan_artists)"
   ]
  },
  {
   "cell_type": "code",
   "execution_count": null,
   "id": "a019b51c-e5ff-461f-82a3-b5a18a19cdef",
   "metadata": {},
   "outputs": [],
   "source": []
  }
 ],
 "metadata": {
  "kernelspec": {
   "display_name": "Python [conda env:base] *",
   "language": "python",
   "name": "conda-base-py"
  },
  "language_info": {
   "codemirror_mode": {
    "name": "ipython",
    "version": 3
   },
   "file_extension": ".py",
   "mimetype": "text/x-python",
   "name": "python",
   "nbconvert_exporter": "python",
   "pygments_lexer": "ipython3",
   "version": "3.11.7"
  }
 },
 "nbformat": 4,
 "nbformat_minor": 5
}
