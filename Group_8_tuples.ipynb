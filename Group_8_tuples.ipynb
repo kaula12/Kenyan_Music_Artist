{
 "cells": [
  {
   "cell_type": "code",
   "execution_count": null,
   "id": "9a19da72-57fe-4581-977f-d81a8c50dcd0",
   "metadata": {},
   "outputs": [],
   "source": [
    "#Checking data type of tuple"
   ]
  },
  {
   "cell_type": "code",
   "execution_count": 4,
   "id": "ccfea476-2e21-4230-a463-c0861ce35b5c",
   "metadata": {},
   "outputs": [
    {
     "data": {
      "text/plain": [
       "tuple"
      ]
     },
     "execution_count": 4,
     "metadata": {},
     "output_type": "execute_result"
    }
   ],
   "source": [
    "stationery = ()\n",
    "type(stationery)"
   ]
  },
  {
   "cell_type": "code",
   "execution_count": null,
   "id": "770129d0-9507-4982-b769-807647179887",
   "metadata": {},
   "outputs": [],
   "source": [
    "#Turple of artists' music genre"
   ]
  },
  {
   "cell_type": "code",
   "execution_count": 6,
   "id": "9a769084-854b-4152-9f30-a1de151330f9",
   "metadata": {},
   "outputs": [],
   "source": [
    "artist_genre = (\n",
    "    (\"Nyashinski\", \"Hip-hop\"),\n",
    "    (\"Juacali\", \"Gengetone\"),\n",
    "    (\"Rose Muhando\", \"Gospel\"),\n",
    "    (\"Nikita Kering\", \"R&B\"),\n",
    "    (\"Mad Munga\", \"Gengetone\")\n",
    ")"
   ]
  },
  {
   "cell_type": "code",
   "execution_count": null,
   "id": "d646a6fc-7dd7-42c5-9fb1-5bd16ecf1e1c",
   "metadata": {},
   "outputs": [],
   "source": [
    "#Accessing specific element"
   ]
  },
  {
   "cell_type": "code",
   "execution_count": 8,
   "id": "0558137c-1faf-4629-9020-d12f36ee23a9",
   "metadata": {},
   "outputs": [
    {
     "data": {
      "text/plain": [
       "'Gengetone'"
      ]
     },
     "execution_count": 8,
     "metadata": {},
     "output_type": "execute_result"
    }
   ],
   "source": [
    "artist_genre[1][1]"
   ]
  },
  {
   "cell_type": "code",
   "execution_count": null,
   "id": "1280559b-5e85-4467-8630-9ef3a99ca860",
   "metadata": {},
   "outputs": [],
   "source": []
  }
 ],
 "metadata": {
  "kernelspec": {
   "display_name": "Python [conda env:base] *",
   "language": "python",
   "name": "conda-base-py"
  },
  "language_info": {
   "codemirror_mode": {
    "name": "ipython",
    "version": 3
   },
   "file_extension": ".py",
   "mimetype": "text/x-python",
   "name": "python",
   "nbconvert_exporter": "python",
   "pygments_lexer": "ipython3",
   "version": "3.11.7"
  }
 },
 "nbformat": 4,
 "nbformat_minor": 5
}
